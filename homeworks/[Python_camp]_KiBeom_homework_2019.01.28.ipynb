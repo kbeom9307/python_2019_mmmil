{
 "cells": [
  {
   "cell_type": "markdown",
   "metadata": {},
   "source": [
    "### 문제 1\n",
    "과제 1\n",
    "알파벳 개수 구하기\n",
    "입력 : aaabbbcca\n",
    "출력 : a4b3c2\n"
   ]
  },
  {
   "cell_type": "code",
   "execution_count": 61,
   "metadata": {},
   "outputs": [
    {
     "name": "stdout",
     "output_type": "stream",
     "text": [
      "알파벳 개수 구하기 : donedone\n",
      "d2e2o2n2"
     ]
    }
   ],
   "source": [
    "alpa = list(input(\"알파벳 개수 구하기 : \")) # 알파벳 입력\n",
    "title = set(alpa) # 알파벳 집합으로 중복개수 제거\n",
    "\n",
    "for num in title: # 알파벳의 종류만큼 반복\n",
    "    print(num, alpa.count(num), sep=\"\", end=\"\") # 입력받은 알파벳의 종류를 리스트에서 개수 count"
   ]
  },
  {
   "cell_type": "markdown",
   "metadata": {},
   "source": [
    "### 문제 2\n",
    "모스 부호 변환기\n",
    "입력 : HE SLEEPS EARLY\n",
    "출력 : .... . ... .-.. . . .--. ... . .- .-. .-.. -.--"
   ]
  },
  {
   "cell_type": "code",
   "execution_count": 60,
   "metadata": {},
   "outputs": [
    {
     "name": "stdout",
     "output_type": "stream",
     "text": [
      "모스부호 변환기 입력 : DONE\n",
      "-.. --- -. . "
     ]
    }
   ],
   "source": [
    "mos = {'A':'.-', 'N': '-.', 'B': '-...', 'O': '---', \"C\" : '-.-.',   'P': '.--.', 'D': '-..', 'Q': '--.-', 'E' : '.', 'R': '.-.', 'F': '..-.', 'S': '...','G': '--.', 'T': '-', 'H' :'....', 'U': '..-', 'I': '..', 'V': '...-', 'J': '.---', 'W': '.--','K': '-.-', 'X': '-..-', 'L': '.-..', 'Y': '-.--', 'M': '--', 'Z': '--..'\n",
    "}\n",
    "#Eng = \"HE SLEEPS EARLY\"\n",
    "Eng = input(\"모스부호 변환기 입력 : \")\n",
    "for letter in Eng :\n",
    "    if letter == \" \":\n",
    "        print(letter, end=\" \")\n",
    "    else : \n",
    "        print(mos[\"%s\" %letter] ,end=\" \")"
   ]
  }
 ],
 "metadata": {
  "kernelspec": {
   "display_name": "Python 3",
   "language": "python",
   "name": "python3"
  },
  "language_info": {
   "codemirror_mode": {
    "name": "ipython",
    "version": 3
   },
   "file_extension": ".py",
   "mimetype": "text/x-python",
   "name": "python",
   "nbconvert_exporter": "python",
   "pygments_lexer": "ipython3",
   "version": "3.6.8"
  }
 },
 "nbformat": 4,
 "nbformat_minor": 2
}
